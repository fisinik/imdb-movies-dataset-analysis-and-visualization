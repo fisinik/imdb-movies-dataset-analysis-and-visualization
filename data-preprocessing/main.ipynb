{
 "cells": [
  {
   "cell_type": "markdown",
   "metadata": {},
   "source": [
    "##Setup libraries, dataset path and movie genres"
   ]
  },
  {
   "cell_type": "code",
   "execution_count": 239,
   "id": "1b7ffd6f-9f81-44d8-aeb7-772908a67a5d",
   "metadata": {},
   "outputs": [],
   "source": [
    "import pandas as pd\n",
    "import os\n",
    "dataset_path = \"../dataset\"\n",
    "movie_genres = ['action', 'adventure', 'animation', 'biography', 'crime', 'family', 'fantasy', \n",
    "          'film-noir', 'history', 'horror', 'mystery', 'romance', 'scifi', 'sports', \n",
    "          'thriller', 'war']"
   ]
  },
  {
   "cell_type": "markdown",
   "metadata": {},
   "source": [
    "##Read each file and store dataframes separately"
   ]
  },
  {
   "cell_type": "code",
   "execution_count": 240,
   "id": "19aaccde-38b0-48dd-8b00-d18d59e7d015",
   "metadata": {},
   "outputs": [
    {
     "name": "stdout",
     "output_type": "stream",
     "text": [
      "genre, number of rows, number of columns\n",
      "action (52452, 14)\n",
      "adventure (25664, 14)\n",
      "animation (8419, 14)\n",
      "biography (8289, 14)\n",
      "crime (35852, 14)\n",
      "family (17095, 14)\n",
      "fantasy (17163, 14)\n",
      "film-noir (986, 14)\n",
      "history (8996, 14)\n",
      "horror (36682, 14)\n",
      "mystery (18960, 14)\n",
      "romance (52617, 14)\n",
      "scifi (16557, 14)\n",
      "sports (5292, 14)\n",
      "thriller (53365, 14)\n",
      "war (9911, 14)\n"
     ]
    }
   ],
   "source": [
    "# Define a dictionary to store dataframes for each genre\n",
    "movies_by_genre = {}\n",
    "\n",
    "# Update the dictionary\n",
    "for file in os.listdir(dataset_path):\n",
    "    for genre in movie_genres:\n",
    "        if genre in file:\n",
    "            if genre not in movies_by_genre:\n",
    "                movies_by_genre[genre] = pd.read_csv(os.path.join(dataset_path, file))\n",
    "            else:\n",
    "                movies_by_genre[genre] = pd.concat([movies_by_genre[genre], pd.read_csv(os.path.join(dataset_path, file))])\n",
    "\n",
    "# Print the number of rows and columns in each genre dataframe without any data quality checks\n",
    "print(\"genre, number of rows, number of columns\")\n",
    "for genre, movies_df in movies_by_genre.items():\n",
    "    print(genre, movies_df.shape)"
   ]
  },
  {
   "cell_type": "markdown",
   "metadata": {},
   "source": [
    "##Perform data quality checks"
   ]
  },
  {
   "cell_type": "code",
   "execution_count": 241,
   "metadata": {},
   "outputs": [
    {
     "name": "stdout",
     "output_type": "stream",
     "text": [
      "action ['movie' 'year' 'runtime' 'rating' 'director' 'star' 'votes' 'gross']\n",
      "adventure ['movie' 'year' 'runtime' 'rating' 'director' 'star' 'votes' 'gross']\n",
      "animation ['movie' 'year' 'runtime' 'rating' 'director' 'star' 'votes' 'gross']\n",
      "biography ['movie' 'year' 'runtime' 'rating' 'director' 'star' 'votes' 'gross']\n",
      "crime ['movie' 'year' 'runtime' 'rating' 'director' 'star' 'votes' 'gross']\n",
      "family ['movie' 'year' 'runtime' 'rating' 'director' 'star' 'votes' 'gross']\n",
      "fantasy ['movie' 'year' 'runtime' 'rating' 'director' 'star' 'votes' 'gross']\n",
      "film-noir ['movie' 'year' 'runtime' 'rating' 'director' 'star' 'votes' 'gross']\n",
      "history ['movie' 'year' 'runtime' 'rating' 'director' 'star' 'votes' 'gross']\n",
      "horror ['movie' 'year' 'runtime' 'rating' 'director' 'star' 'votes' 'gross']\n",
      "mystery ['movie' 'year' 'runtime' 'rating' 'director' 'star' 'votes' 'gross']\n",
      "romance ['movie' 'year' 'runtime' 'rating' 'director' 'star' 'votes' 'gross']\n",
      "scifi ['movie' 'year' 'runtime' 'rating' 'director' 'star' 'votes' 'gross']\n",
      "sports ['movie' 'year' 'runtime' 'rating' 'director' 'star' 'votes' 'gross']\n",
      "thriller ['movie' 'year' 'runtime' 'rating' 'director' 'star' 'votes' 'gross']\n",
      "war ['movie' 'year' 'runtime' 'rating' 'director' 'star' 'votes' 'gross']\n"
     ]
    }
   ],
   "source": [
    "# Dimensionality reduction\n",
    "# for each dataframe in the dictionary, rename the columns and select only the columns we need\n",
    "for genre, movies_df in movies_by_genre.items():\n",
    "    movies_df.rename(columns={'gross(in $)': 'gross'}, inplace=True)\n",
    "    movies_df.rename(columns={'movie_name': 'movie'}, inplace=True)\n",
    "    movies_by_genre[genre] = movies_df[['movie', 'year', 'runtime', 'rating', 'director', 'star', 'votes', 'gross']]\n",
    "\n",
    "# print the columns selected for each genre\n",
    "for genre, movies_df in movies_by_genre.items():\n",
    "    print(genre, movies_df.columns.values)"
   ]
  },
  {
   "cell_type": "markdown",
   "metadata": {},
   "source": [
    "##The study of trends over the years, specifically the popularity of genres\n",
    "For this case study we will consider columns that can be used to visualize the trends in the movie industry over the years. We will consider the following columns: movie, year, runtime, rating, director, star. We will also consider the following columns for further analysis: gross"
   ]
  },
  {
   "cell_type": "code",
   "execution_count": 242,
   "metadata": {},
   "outputs": [
    {
     "name": "stdout",
     "output_type": "stream",
     "text": [
      "null values for each genre\n",
      "----------------------------------\n",
      "action 8259\n",
      "adventure 3689\n",
      "animation 1369\n",
      "biography 2005\n",
      "crime 3563\n",
      "family 1631\n",
      "fantasy 2814\n",
      "film-noir 0\n",
      "history 1295\n",
      "horror 7591\n",
      "mystery 2004\n",
      "romance 3437\n",
      "scifi 4018\n",
      "sports 575\n",
      "thriller 10137\n",
      "war 861\n"
     ]
    }
   ],
   "source": [
    "popularity_of_genres = {}\n",
    "# remove null values \n",
    "for genre, movies_df in movies_by_genre.items():\n",
    "    popularity_of_genres[genre] = movies_df[movies_df['year'].notnull()]\n",
    "\n",
    "# number of rows containing null values for each genre\n",
    "print(\"null values for each genre\")\n",
    "print(\"----------------------------------\")\n",
    "for genre, movies_df in movies_by_genre.items():\n",
    "    print(genre, movies_df.shape[0] - popularity_of_genres[genre].shape[0])\n",
    "\n"
   ]
  },
  {
   "cell_type": "code",
   "execution_count": 250,
   "metadata": {},
   "outputs": [
    {
     "name": "stdout",
     "output_type": "stream",
     "text": [
      "number of rows for popularity_of_genres\n",
      "----------------------------------\n",
      "action 42284\n",
      "adventure 21371\n",
      "animation 6868\n",
      "biography 5973\n",
      "crime 31501\n",
      "family 15197\n",
      "fantasy 13852\n",
      "film-noir 986\n",
      "history 7494\n",
      "horror 26920\n",
      "mystery 16497\n",
      "romance 48512\n",
      "scifi 11399\n",
      "sports 4599\n",
      "thriller 39896\n",
      "war 8891\n"
     ]
    }
   ],
   "source": [
    "# number of rows for popularity_of_genres\n",
    "print(\"number of rows for popularity_of_genres\")\n",
    "print(\"----------------------------------\")\n",
    "for genre, movies_df in movies_by_genre.items():\n",
    "    print(genre, popularity_of_genres[genre].shape[0])"
   ]
  },
  {
   "cell_type": "markdown",
   "metadata": {},
   "source": [
    "##Noise analysis"
   ]
  },
  {
   "cell_type": "code",
   "execution_count": 252,
   "metadata": {},
   "outputs": [
    {
     "name": "stdout",
     "output_type": "stream",
     "text": [
      "action ['2022' '2023' '2018' '1986' '2009' '2012' '2021' '2001' '2008' '2010'\n",
      " '2000' '2019' '2014' '2017' '1999' '1981' '1996' '2020' '1995' '1993'\n",
      " '1988' '2015' '2003' '2013' '1994' '1989' '1977' '2016' '2002' '2011'\n",
      " '1982' '1984' '1991' '2007' '1997' '2006' '2004' '2005' '1987' '1967'\n",
      " '1963' '1964' '1979' '1965' '1980' '1998' '1983' '1990' '1962' '1992'\n",
      " '1985' '1978' '1960' '1976' '1954' '1971' '1959' '1973' '1969' '1974'\n",
      " '1968' '1972' '1975' '1952' '1966' '1961' '1953' '1970' '1958' '1957'\n",
      " '1950' '1955' '1956' '1951']\n",
      "adventure ['2022' '2023' '2018' '2009' '2001' '2014' '2012' '2021' '2010' '2000'\n",
      " '2019' '2011' '1981' '1996' '2005' '1999' '1985' '1993' '2017' '1988'\n",
      " '1990' '2003' '1980' '2013' '1987' '2015' '2004' '1977' '1995' '2002'\n",
      " '2016' '1972' '2020' '1989' '1986' '2007' '1994' '1997' '2006' '1968'\n",
      " '1984' '1966' '1991' '1967' '1975' '2008' '1963' '1964' '1965' '1998'\n",
      " '1983' '1982' '1979' '1962' '1992' '1978' '1960' '1976' '1959' '1957'\n",
      " '1971' '1973' '1956' '1974' '1970' '1969' '1953' '1952' '1951' '1961'\n",
      " '1955' '1954' '1958' '1950']\n",
      "animation ['2022' '2023' '2019' '2021' '2011' '2018' '1994' '2006' '2001' '2007'\n",
      " '2016' '1995' '2013' '2004' '2015' '2017' '2010' '2008' '2003' '1997'\n",
      " '2009' '1998' '1991' '1989' '1992' '2020' '1988' '2014' '1999' '2002'\n",
      " '1953' '2012' '2005' '2000' '1967' '1996' '1973' '1993' '1970' '1951'\n",
      " '1950' '1981' '1961' '1955' '1959' '1986' '1984' '1978' '1985' '1977'\n",
      " '1971' '1990' '1982' '1963' '1983' '1972' '1987' '1974' '1954' '1968'\n",
      " '1979' '1964' '1966' '1962' '1975' '1969' '1976' '1980' '1957' '1958'\n",
      " '1960' '1956' '1952' '1965']\n",
      "biography ['2022' '2013' '2002' '2023' '1990' '1993' '1981' '2016' '2018' '2017'\n",
      " '2019' '1995' '2000' '2010' '2015' '2020' '2011' '1965' '2021' '2014'\n",
      " '2001' '2007' '1984' '1962' '2009' '2004' '2005' '2006' '1999' '1975'\n",
      " '2012' '1992' '1980' '1967' '1994' '2003' '1969' '1988' '1985' '1997'\n",
      " '1963' '1998' '1989' '1970' '1996' '1978' '1960' '1973' '2008' '1991'\n",
      " '1982' '1979' '1987' '1958' '1983' '1971' '1968' '1986' '1956' '1951'\n",
      " '1966' '1972' '1976' '1957' '1977' '1961' '1959' '1964' '1955' '1974'\n",
      " '1952' '1954' '1950' '1953']\n",
      "crime ['2023' '2022' '1972' '2019' '2013' '1994' '2008' '2000' '2014' '2021'\n",
      " '2002' '2001' '2007' '1976' '1990' '1995' '1991' '2006' '2017' '1999'\n",
      " '1974' '2004' '1957' '2015' '1983' '1971' '2020' '1996' '1992' '2003'\n",
      " '1998' '1984' '1985' '2005' '1987' '2012' '2016' '1993' '2009' '1997'\n",
      " '1979' '2010' '2018' '1973' '1986' '2011' '1969' '1988' '1961' '1980'\n",
      " '1963' '1981' '1962' '1989' '1978' '1975' '1982' '1977' '1967' '1953'\n",
      " '1968' '1960' '1954' '1955' '1964' '1950' '1959' '1958' '1966' '1956'\n",
      " '1951' '1965' '1970' '1952']\n",
      "family ['2022' '2023' '2001' '2011' '2021' '2005' '1985' '1996' '1987' '2004'\n",
      " '2002' '2018' '1983' '2007' '1994' '2010' '2006' '2009' '2016' '2013'\n",
      " '1991' '1995' '2015' '2017' '1990' '2008' '1986' '1965' '2019' '1997'\n",
      " '1982' '2003' '1984' '1971' '2020' '1993' '1998' '1992' '1964' '2014'\n",
      " '1989' '1980' '2012' '1979' '1988' '1999' '2000' '1956' '1967' '1970'\n",
      " '1973' '1968' '1953' '1981' '1951' '1961' '1959' '1962' '1955' '1950'\n",
      " '1977' '1978' '1972' '1960' '1954' '1976' '1963' '1966' '1952' '1957'\n",
      " '1975' '1969' '1958' '1974']\n",
      "fantasy ['2022' '2023' '2009' '2001' '2021' '2011' '1993' '2010' '2005' '1999'\n",
      " '2019' '1988' '2003' '2013' '1996' '1987' '2004' '1977' '2002' '2016'\n",
      " '2008' '2015' '2020' '2018' '2007' '1991' '2012' '1995' '2017' '1986'\n",
      " '1968' '2014' '1980' '1984' '1983' '1997' '2006' '1992' '1998' '1971'\n",
      " '1994' '1985' '1964' '1990' '1989' '1975' '1982' '1981' '2000' '1957'\n",
      " '1973' '1953' '1951' '1959' '1974' '1950' '1978' '1954' '1967' '1963'\n",
      " '1966' '1960' '1969' '1961' '1958' '1976' '1970' '1972' '1962' '1979'\n",
      " '1956' '1965' '1952' '1955']\n",
      "film-noir ['1950' '1953' '1955' '1958' '1956' '1951' '1954' '1952' '1957']\n",
      "history ['2022' '2023' '1993' '2017' '2016' '2015' '1995' '2021' '2020' '2019'\n",
      " '2005' '1979' '1991' '1981' '2001' '1992' '2013' '2012' '1960' '2018'\n",
      " '2008' '2004' '2007' '1998' '2010' '2000' '1963' '2009' '2006' '1956'\n",
      " '2002' '2014' '1989' '1997' '1977' '1982' '1976' '1999' '1983' '2011'\n",
      " '1987' '1971' '1986' '1964' '1968' '2003' '1962' '1984' '1994' '1996'\n",
      " '1990' '1953' '1973' '1958' '1974' '1970' '1965' '1966' '1972' '1967'\n",
      " '1969' '1985' '1975' '1957' '1955' '1988' '1959' '1961' '1980' '1954'\n",
      " '1950' '1952' '1978' '1951']\n",
      "horror ['2023' '2022' '2000' '2021' '2019' '2018' '2016' '2017' '1996' '1979'\n",
      " '2015' '2011' '1954' '1980' '2010' '2014' '2020' '2013' '1997' '2002'\n",
      " '1987' '2009' '1982' '2007' '1993' '1973' '1960' '2008' '1981' '2004'\n",
      " '1992' '2005' '1999' '1994' '2001' '1998' '1975' '1988' '2012' '2003'\n",
      " '1986' '1976' '2006' '1968' '1978' '1984' '1989' '1974' '1983' '1977'\n",
      " '1990' '1985' '1995' '1963' '1962' '1972' '1966' '1951' '1991' '1956'\n",
      " '1955' '1958' '1967' '1970' '1965' '1959' '1964' '1953' '1971' '1957'\n",
      " '1961' '1969' '1952' '1950']\n",
      "mystery ['2023' '2022' '2019' '2021' '2017' '2018' '2013' '2011' '2010' '1995'\n",
      " '2005' '2014' '2006' '1979' '1996' '1999' '2002' '2015' '2004' '2003'\n",
      " '2000' '2020' '2001' '2007' '1985' '2016' '2009' '1992' '1997' '2012'\n",
      " '1982' '1993' '1960' '1998' '2008' '1986' '1974' '1989' '1976' '1958'\n",
      " '1954' '1980' '1988' '1994' '1963' '1959' '1981' '1973' '1966' '1984'\n",
      " '1990' '1967' '1978' '1972' '1957' '1987' '1962' '1955' '1991' '1975'\n",
      " '1964' '1950' '1968' '1971' '1977' '1983' '1952' '1970' '1969' '1965'\n",
      " '1953' '1961' '1951' '1956']\n",
      "romance ['2023' '2022' '1997' '2015' '1994' '1978' '1998' '2003' '2013' '2019'\n",
      " '2016' '2012' '2004' '2005' '1987' '1995' '2011' '2010' '1984' '1961'\n",
      " '2017' '1993' '2008' '2020' '2021' '2001' '2007' '1996' '1990' '1999'\n",
      " '1989' '1988' '2000' '1955' '1965' '2018' '1985' '2002' '2006' '2014'\n",
      " '1980' '2009' '1991' '1992' '1986' '1962' '1981' '1959' '1951' '1954'\n",
      " '1967' '1952' '1958' '1972' '1968' '1979' '1963' '1983' '1982' '1960'\n",
      " '1973' '1966' '1971' '1970' '1964' '1977' '1974' '1953' '1956' '1976'\n",
      " '1969' '1950' '1957' '1975']\n",
      "scifi ['2022' '2023' '2018' '2009' '2014' '2012' '2021' '2010' '2019' '2017'\n",
      " '1999' '1996' '2020' '1985' '2006' '1993' '2015' '2004' '2013' '1979'\n",
      " '1977' '2016' '1971' '1954' '2002' '1982' '1984' '1991' '1986' '1997'\n",
      " '2001' '1968' '2005' '2011' '1987' '2007' '2008' '1980' '1998' '1983'\n",
      " '2000' '1990' '1995' '1994' '2003' '1978' '1976' '1981' '1988' '1989'\n",
      " '1992' '1975' '1973' '1972' '1956' '1974' '1959' '1960' '1951' '1966'\n",
      " '1953' '1964' '1955' '1958' '1967' '1970' '1957' '1961' '1963' '1965'\n",
      " '1969' '1952' '1962' '1950']\n",
      "sports ['2023' '2019' '1976' '1996' '2006' '2022' '1977' '2005' '2015' '2011'\n",
      " '1984' '2018' '2009' '2000' '1989' '1992' '2013' '2004' '2017' '2014'\n",
      " '1998' '1985' '1981' '2008' '1993' '1980' '1995' '2021' '1974' '1979'\n",
      " '2010' '1990' '1982' '1999' '1994' '1986' '1988' '2007' '2001' '2012'\n",
      " '2016' '1987' '2020' '2002' '1975' '2003' '1961' '1983' '1978' '1997'\n",
      " '1965' '1991' '1966' '1968' '1969' '1960' '1970' '1971' '1956' '1963'\n",
      " '1972' '1958' '1973' '1950' '1962' '1955' '1964' '1952' '1951' '1953'\n",
      " '1967' '1957' '1954' '1959']\n",
      "thriller ['2022' '2023' '2019' '2012' '2008' '2010' '2021' '2014' '2017' '2018'\n",
      " '2013' '2001' '2007' '1995' '2020' '2016' '1991' '2015' '2006' '1993'\n",
      " '2002' '1994' '1989' '2011' '1999' '2003' '1972' '2000' '2004' '1982'\n",
      " '2009' '1992' '1986' '1985' '1996' '1987' '1967' '1975' '1963' '1964'\n",
      " '1984' '1997' '1979' '1988' '1960' '1998' '1965' '2005' '1983' '1962'\n",
      " '1990' '1974' '1958' '1954' '1981' '1978' '1980' '1977' '1971' '1959'\n",
      " '1973' '1968' '1969' '1952' '1966' '1953' '1976' '1957' '1955' '1961'\n",
      " '1956' '1970' '1951' '1950']\n",
      "war ['2022' '2019' '2023' '2009' '2017' '1979' '2014' '2016' '1998' '2007'\n",
      " '1995' '1997' '2002' '2021' '1985' '1987' '2005' '2008' '2000' '1984'\n",
      " '2001' '2006' '2020' '1978' '1986' '1962' '2012' '1992' '2004' '1988'\n",
      " '2013' '1964' '2003' '1996' '1994' '2015' '1963' '2018' '1981' '1965'\n",
      " '1975' '1957' '1960' '1970' '1989' '1977' '1993' '1967' '1961' '1976'\n",
      " '2010' '2011' '1999' '1953' '1990' '1971' '1951' '1968' '1958' '1982'\n",
      " '1980' '1959' '1969' '1966' '1954' '1972' '1983' '1956' '1955' '1991'\n",
      " '1950' '1952' '1973' '1974']\n"
     ]
    }
   ],
   "source": [
    "# try to normalize the year column values to a 4 digit year format\n",
    "for genre, movies_df in movies_by_genre.items():\n",
    "    movies_df['year'] = movies_df['year'].astype(str).str[:4]\n",
    "\n",
    "# remove values that are not in the years 1950-2023\n",
    "for genre, movies_df in movies_by_genre.items():\n",
    "    movies_by_genre[genre] = movies_df[(movies_df['year'] >= '1950') & (movies_df['year'] <= '2023')]\n",
    "\n",
    "# check if there are noises in the year column\n",
    "# by looking if there is a value outside of the years 1950-2023\n",
    "for genre, movies_df in movies_by_genre.items():\n",
    "    print(genre, movies_df[(movies_df['year'] < '1950') | (movies_df['year'] > '2023')].shape[0])\n",
    "\n"
   ]
  }
 ],
 "metadata": {
  "kernelspec": {
   "display_name": "Python 3 (ipykernel)",
   "language": "python",
   "name": "python3"
  },
  "language_info": {
   "codemirror_mode": {
    "name": "ipython",
    "version": 3
   },
   "file_extension": ".py",
   "mimetype": "text/x-python",
   "name": "python",
   "nbconvert_exporter": "python",
   "pygments_lexer": "ipython3",
   "version": "3.12.0"
  }
 },
 "nbformat": 4,
 "nbformat_minor": 5
}
