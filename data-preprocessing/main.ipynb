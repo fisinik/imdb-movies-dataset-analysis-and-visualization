{
 "cells": [
  {
   "cell_type": "markdown",
   "metadata": {},
   "source": [
    "##Setup libraries, dataset path and movie genres"
   ]
  },
  {
   "cell_type": "code",
   "execution_count": 18,
   "id": "1b7ffd6f-9f81-44d8-aeb7-772908a67a5d",
   "metadata": {},
   "outputs": [],
   "source": [
    "import pandas as pd\n",
    "import os\n",
    "dataset_path = \"../dataset\"\n",
    "movie_genres = ['action', 'adventure', 'animation', 'biography', 'crime', 'family', 'fantasy', \n",
    "          'film-noir', 'history', 'horror', 'mystery', 'romance', 'scifi', 'sports', \n",
    "          'thriller', 'war']"
   ]
  },
  {
   "cell_type": "markdown",
   "metadata": {},
   "source": [
    "##Read each file and store dataframes separately"
   ]
  },
  {
   "cell_type": "code",
   "execution_count": 19,
   "id": "19aaccde-38b0-48dd-8b00-d18d59e7d015",
   "metadata": {},
   "outputs": [
    {
     "name": "stdout",
     "output_type": "stream",
     "text": [
      "genre, number of rows, number of columns\n",
      "action (52452, 14)\n",
      "adventure (25664, 14)\n",
      "animation (8419, 14)\n",
      "biography (8289, 14)\n",
      "crime (35852, 14)\n",
      "family (17095, 14)\n",
      "fantasy (17163, 14)\n",
      "film-noir (986, 14)\n",
      "history (8996, 14)\n",
      "horror (36682, 14)\n",
      "mystery (18960, 14)\n",
      "romance (52617, 14)\n",
      "scifi (16557, 14)\n",
      "sports (5292, 14)\n",
      "thriller (53365, 14)\n",
      "war (9911, 14)\n"
     ]
    }
   ],
   "source": [
    "# Define a dictionary to store dataframes for each genre\n",
    "movies_by_genre = {}\n",
    "\n",
    "# Update the dictionary\n",
    "for file in os.listdir(dataset_path):\n",
    "    for genre in movie_genres:\n",
    "        if genre in file:\n",
    "            if genre not in movies_by_genre:\n",
    "                movies_by_genre[genre] = pd.read_csv(os.path.join(dataset_path, file))\n",
    "            else:\n",
    "                movies_by_genre[genre] = pd.concat([movies_by_genre[genre], pd.read_csv(os.path.join(dataset_path, file))])\n",
    "\n",
    "# Print the number of rows and columns in each genre dataframe without any data quality checks\n",
    "print(\"genre, number of rows, number of columns\")\n",
    "for genre, movies_df in movies_by_genre.items():\n",
    "    print(genre, movies_df.shape)"
   ]
  },
  {
   "cell_type": "markdown",
   "metadata": {},
   "source": [
    "##Perform data quality checks"
   ]
  },
  {
   "cell_type": "code",
   "execution_count": 20,
   "metadata": {},
   "outputs": [
    {
     "name": "stdout",
     "output_type": "stream",
     "text": [
      "action ['movie' 'year' 'runtime' 'rating' 'director' 'star' 'votes' 'gross']\n",
      "adventure ['movie' 'year' 'runtime' 'rating' 'director' 'star' 'votes' 'gross']\n",
      "animation ['movie' 'year' 'runtime' 'rating' 'director' 'star' 'votes' 'gross']\n",
      "biography ['movie' 'year' 'runtime' 'rating' 'director' 'star' 'votes' 'gross']\n",
      "crime ['movie' 'year' 'runtime' 'rating' 'director' 'star' 'votes' 'gross']\n",
      "family ['movie' 'year' 'runtime' 'rating' 'director' 'star' 'votes' 'gross']\n",
      "fantasy ['movie' 'year' 'runtime' 'rating' 'director' 'star' 'votes' 'gross']\n",
      "film-noir ['movie' 'year' 'runtime' 'rating' 'director' 'star' 'votes' 'gross']\n",
      "history ['movie' 'year' 'runtime' 'rating' 'director' 'star' 'votes' 'gross']\n",
      "horror ['movie' 'year' 'runtime' 'rating' 'director' 'star' 'votes' 'gross']\n",
      "mystery ['movie' 'year' 'runtime' 'rating' 'director' 'star' 'votes' 'gross']\n",
      "romance ['movie' 'year' 'runtime' 'rating' 'director' 'star' 'votes' 'gross']\n",
      "scifi ['movie' 'year' 'runtime' 'rating' 'director' 'star' 'votes' 'gross']\n",
      "sports ['movie' 'year' 'runtime' 'rating' 'director' 'star' 'votes' 'gross']\n",
      "thriller ['movie' 'year' 'runtime' 'rating' 'director' 'star' 'votes' 'gross']\n",
      "war ['movie' 'year' 'runtime' 'rating' 'director' 'star' 'votes' 'gross']\n"
     ]
    }
   ],
   "source": [
    "# Dimensionality reduction\n",
    "# for each dataframe in the dictionary, rename the columns and select only the columns we need\n",
    "for genre, movies_df in movies_by_genre.items():\n",
    "    movies_df.rename(columns={'gross(in $)': 'gross'}, inplace=True)\n",
    "    movies_df.rename(columns={'movie_name': 'movie'}, inplace=True)\n",
    "    movies_by_genre[genre] = movies_df[['movie', 'year', 'runtime', 'rating', 'director', 'star', 'votes', 'gross']]\n",
    "\n",
    "# print the columns selected for each genre\n",
    "for genre, movies_df in movies_by_genre.items():\n",
    "    print(genre, movies_df.columns.values)"
   ]
  },
  {
   "cell_type": "markdown",
   "metadata": {},
   "source": [
    "##The study of trends over the years, specifically the popularity of genres\n",
    "For this case study we will consider columns that can be used to visualize the trends in the movie industry over the years. We will consider the following columns: movie, year, runtime, rating, director, star. We will also consider the following columns for further analysis: gross"
   ]
  },
  {
   "cell_type": "code",
   "execution_count": 21,
   "metadata": {},
   "outputs": [
    {
     "name": "stdout",
     "output_type": "stream",
     "text": [
      "null values for each genre\n",
      "----------------------------------\n",
      "action 8259\n",
      "adventure 3689\n",
      "animation 1369\n",
      "biography 2005\n",
      "crime 3563\n",
      "family 1631\n",
      "fantasy 2814\n",
      "film-noir 0\n",
      "history 1295\n",
      "horror 7591\n",
      "mystery 2004\n",
      "romance 3437\n",
      "scifi 4018\n",
      "sports 575\n",
      "thriller 10137\n",
      "war 861\n"
     ]
    }
   ],
   "source": [
    "popularity_of_genres = {}\n",
    "# remove null values \n",
    "for genre, movies_df in movies_by_genre.items():\n",
    "    popularity_of_genres[genre] = movies_df[movies_df['year'].notnull()]\n",
    "\n",
    "# number of rows containing null values for each genre\n",
    "print(\"null values for each genre\")\n",
    "print(\"----------------------------------\")\n",
    "for genre, movies_df in movies_by_genre.items():\n",
    "    print(genre, movies_df.shape[0] - popularity_of_genres[genre].shape[0])"
   ]
  },
  {
   "cell_type": "markdown",
   "metadata": {},
   "source": [
    "##Noise analysis"
   ]
  },
  {
   "cell_type": "code",
   "execution_count": 23,
   "metadata": {},
   "outputs": [
    {
     "name": "stdout",
     "output_type": "stream",
     "text": [
      "action 0\n",
      "adventure 0\n",
      "animation 0\n",
      "biography 0\n",
      "crime 0\n",
      "family 0\n",
      "fantasy 0\n",
      "film-noir 0\n",
      "history 0\n",
      "horror 0\n",
      "mystery 0\n",
      "romance 0\n",
      "scifi 0\n",
      "sports 0\n",
      "thriller 0\n",
      "war 0\n"
     ]
    }
   ],
   "source": [
    "# try to normalize the year column values to a 4 digit year format\n",
    "for genre, movies_df in popularity_of_genres.items():\n",
    "    popularity_of_genres[genre]['year'] = popularity_of_genres[genre]['year'].astype(str).str[:4]\n",
    "\n",
    "# remove values that are not in the years 1950-2023\n",
    "for genre, movies_df in popularity_of_genres.items():\n",
    "    popularity_of_genres[genre] = movies_df.loc[(movies_df['year'] >= '1950') & (movies_df['year'] <= '2023')]\n",
    "\n",
    "# check if there are noises in the year column\n",
    "for genre, movies_df in popularity_of_genres.items():\n",
    "    print(genre, movies_df.loc[(movies_df['year'] < '1950') | (movies_df['year'] > '2023')].shape[0])\n"
   ]
  },
  {
   "cell_type": "markdown",
   "metadata": {},
   "source": [
    "##Feature Generation"
   ]
  },
  {
   "cell_type": "code",
   "execution_count": 24,
   "metadata": {},
   "outputs": [
    {
     "name": "stdout",
     "output_type": "stream",
     "text": [
      "year  genre    \n",
      "1950  action       100\n",
      "      adventure    114\n",
      "      animation      8\n",
      "      biography     20\n",
      "      crime        215\n",
      "                  ... \n",
      "2023  romance      399\n",
      "      scifi        233\n",
      "      sports        45\n",
      "      thriller     659\n",
      "      war           47\n",
      "Length: 1119, dtype: int64\n"
     ]
    }
   ],
   "source": [
    "# create a new column genre\n",
    "for genre, movies_df in popularity_of_genres.items():\n",
    "    popularity_of_genres[genre]['genre'] = genre\n",
    "\n",
    "# combine all the dataframes into one\n",
    "all_movie_genres = pd.concat(popularity_of_genres.values())\n",
    "\n",
    "# list the amount of movies for each year based on genre\n",
    "print(all_movie_genres.groupby(['year', 'genre']).size())"
   ]
  },
  {
   "cell_type": "code",
   "execution_count": 25,
   "metadata": {},
   "outputs": [
    {
     "name": "stdout",
     "output_type": "stream",
     "text": [
      "year  genre   \n",
      "1950  romance      221\n",
      "1951  romance      272\n",
      "1952  romance      253\n",
      "1953  romance      265\n",
      "1954  romance      289\n",
      "                  ... \n",
      "2019  thriller    1711\n",
      "2020  thriller    1431\n",
      "2021  thriller    1737\n",
      "2022  thriller    2129\n",
      "2023  thriller     659\n",
      "Length: 74, dtype: int64\n"
     ]
    }
   ],
   "source": [
    "# show top 1 movie genre for each year\n",
    "print(all_movie_genres.groupby(['year', 'genre']).size().groupby(level=0, group_keys=False).nlargest(1))"
   ]
  },
  {
   "cell_type": "code",
   "execution_count": 26,
   "metadata": {},
   "outputs": [
    {
     "name": "stdout",
     "output_type": "stream",
     "text": [
      "The genre with the most top 1 placings throughout the years is: thriller\n"
     ]
    }
   ],
   "source": [
    "# Find the most frequent genre\n",
    "result = all_movie_genres.groupby(['year', 'genre']).size().groupby(level=0, group_keys=False).nlargest(1)\n",
    "\n",
    "most_frequent_genre = result.idxmax()[1]\n",
    "\n",
    "print(\"The genre with the most top 1 placings throughout the years is:\", most_frequent_genre)"
   ]
  }
 ],
 "metadata": {
  "kernelspec": {
   "display_name": "Python 3 (ipykernel)",
   "language": "python",
   "name": "python3"
  },
  "language_info": {
   "codemirror_mode": {
    "name": "ipython",
    "version": 3
   },
   "file_extension": ".py",
   "mimetype": "text/x-python",
   "name": "python",
   "nbconvert_exporter": "python",
   "pygments_lexer": "ipython3",
   "version": "3.12.0"
  }
 },
 "nbformat": 4,
 "nbformat_minor": 5
}
