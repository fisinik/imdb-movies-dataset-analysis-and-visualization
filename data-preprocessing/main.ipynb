{
 "cells": [
  {
   "cell_type": "markdown",
   "metadata": {},
   "source": [
    "##Setup libraries, dataset path and movie genres"
   ]
  },
  {
   "cell_type": "code",
   "execution_count": 48,
   "id": "1b7ffd6f-9f81-44d8-aeb7-772908a67a5d",
   "metadata": {},
   "outputs": [],
   "source": [
    "import pandas as pd\n",
    "import os\n",
    "dataset_path = \"../dataset\"\n",
    "movie_genres = ['action', 'adventure', 'animation', 'biography', 'crime', 'family', 'fantasy', \n",
    "          'film-noir', 'history', 'horror', 'mystery', 'romance', 'scifi', 'sports', \n",
    "          'thriller', 'war']"
   ]
  },
  {
   "cell_type": "markdown",
   "metadata": {},
   "source": [
    "1. Read each file and store dataframes separately"
   ]
  },
  {
   "cell_type": "code",
   "execution_count": 49,
   "id": "19aaccde-38b0-48dd-8b00-d18d59e7d015",
   "metadata": {},
   "outputs": [
    {
     "name": "stdout",
     "output_type": "stream",
     "text": [
      "genre, number of rows, number of columns\n",
      "action (52452, 14)\n",
      "adventure (25664, 14)\n",
      "animation (8419, 14)\n",
      "biography (8289, 14)\n",
      "crime (35852, 14)\n",
      "family (17095, 14)\n",
      "fantasy (17163, 14)\n",
      "film-noir (986, 14)\n",
      "history (8996, 14)\n",
      "horror (36682, 14)\n",
      "mystery (18960, 14)\n",
      "romance (52617, 14)\n",
      "scifi (16557, 14)\n",
      "sports (5292, 14)\n",
      "thriller (53365, 14)\n",
      "war (9911, 14)\n"
     ]
    }
   ],
   "source": [
    "# Define a dictionary to store dataframes for each genre\n",
    "movies_by_genre = {}\n",
    "\n",
    "# Update the dictionary\n",
    "for file in os.listdir(dataset_path):\n",
    "    for genre in movie_genres:\n",
    "        if genre in file:\n",
    "            if genre not in movies_by_genre:\n",
    "                movies_by_genre[genre] = pd.read_csv(os.path.join(dataset_path, file))\n",
    "            else:\n",
    "                movies_by_genre[genre] = pd.concat([movies_by_genre[genre], pd.read_csv(os.path.join(dataset_path, file))])\n",
    "\n",
    "# Print the number of rows and columns in each genre dataframe without any data quality checks\n",
    "print(\"genre, number of rows, number of columns\")\n",
    "for genre, movies_df in movies_by_genre.items():\n",
    "    print(genre, movies_df.shape)"
   ]
  }
 ],
 "metadata": {
  "kernelspec": {
   "display_name": "Python 3 (ipykernel)",
   "language": "python",
   "name": "python3"
  },
  "language_info": {
   "codemirror_mode": {
    "name": "ipython",
    "version": 3
   },
   "file_extension": ".py",
   "mimetype": "text/x-python",
   "name": "python",
   "nbconvert_exporter": "python",
   "pygments_lexer": "ipython3",
   "version": "3.12.0"
  }
 },
 "nbformat": 4,
 "nbformat_minor": 5
}
